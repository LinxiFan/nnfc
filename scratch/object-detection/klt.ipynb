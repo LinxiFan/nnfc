{
 "cells": [
  {
   "cell_type": "code",
   "execution_count": 2,
   "metadata": {},
   "outputs": [],
   "source": [
    "import os\n",
    "import sys\n",
    "import numpy as np\n",
    "import numpy.linalg as linalg\n",
    "import matplotlib.pyplot as plt"
   ]
  },
  {
   "cell_type": "code",
   "execution_count": 4,
   "metadata": {},
   "outputs": [],
   "source": [
    "def load_activations(root):\n",
    "    paths = sorted([f for f in os.listdir(root) if os.path.isfile(os.path.join(root, f))])\n",
    "    actvs = []\n",
    "    \n",
    "    for path in paths:\n",
    "        path = os.path.join(root, path)\n",
    "        actvs += [np.load(path).squeeze(0)]\n",
    "    \n",
    "    return actvs"
   ]
  },
  {
   "cell_type": "code",
   "execution_count": 5,
   "metadata": {},
   "outputs": [],
   "source": [
    "actvs = load_activations(\"/home/sadjad/projects/nnfc-temp/klt/activations\")"
   ]
  },
  {
   "cell_type": "code",
   "execution_count": 8,
   "metadata": {},
   "outputs": [
    {
     "data": {
      "text/plain": [
       "512"
      ]
     },
     "execution_count": 8,
     "metadata": {},
     "output_type": "execute_result"
    }
   ],
   "source": [
    "len(actvs)"
   ]
  },
  {
   "cell_type": "code",
   "execution_count": 9,
   "metadata": {},
   "outputs": [
    {
     "data": {
      "text/plain": [
       "(256, 52, 52)"
      ]
     },
     "execution_count": 9,
     "metadata": {},
     "output_type": "execute_result"
    }
   ],
   "source": [
    "actvs[0].shape"
   ]
  },
  {
   "cell_type": "code",
   "execution_count": 61,
   "metadata": {},
   "outputs": [],
   "source": [
    "block_size = (32, 13, 13)\n",
    "train_data = []\n",
    "\n",
    "for actv in actvs:\n",
    "    for i in range(actv.shape[0] // block_size[0]):\n",
    "        for j in range(actv.shape[1] // block_size[1]):\n",
    "            for k in range(actv.shape[2] // block_size[2]):\n",
    "                block = actv[i*block_size[0]:(i+1)*block_size[0],\n",
    "                             j*block_size[1]:(j+1)*block_size[1],\n",
    "                             k*block_size[2]:(k+1)*block_size[2]]\n",
    "                train_data += [block.reshape(-1)]\n",
    "                \n",
    "tdata = np.array(train_data).T\n",
    "M = np.mean(tdata, axis=1).reshape(-1, 1)\n",
    "X = tdata - M"
   ]
  },
  {
   "cell_type": "code",
   "execution_count": 62,
   "metadata": {},
   "outputs": [
    {
     "name": "stdout",
     "output_type": "stream",
     "text": [
      "(5408, 1)\n",
      "(5408, 65536)\n"
     ]
    }
   ],
   "source": [
    "print(M.shape)\n",
    "print(X.shape)"
   ]
  },
  {
   "cell_type": "code",
   "execution_count": 63,
   "metadata": {},
   "outputs": [],
   "source": [
    "eig_vals, eig_vecs = np.linalg.eig(np.cov(X))\n",
    "sorted_idx = eig_vals.argsort()[::-1]\n",
    "eig_vals = eig_vals[sorted_idx]\n",
    "eig_vecs = eig_vecs[:, sorted_idx]"
   ]
  },
  {
   "cell_type": "code",
   "execution_count": 65,
   "metadata": {},
   "outputs": [
    {
     "name": "stdout",
     "output_type": "stream",
     "text": [
      "5.52267032661e-08\n"
     ]
    }
   ],
   "source": [
    "def do_klt_and_back(indata, eigs, means):\n",
    "    klt = np.dot(eigs.T, indata - means.reshape(-1))\n",
    "    outdata = np.dot(eig_vecs, klt) + means.reshape(-1)\n",
    "    \n",
    "    return klt, np.linalg.norm(outdata - indata, ord=1)\n",
    "\n",
    "random_input = ((np.random.rand(*block_size) - 0.5) * 10.0).reshape(-1)\n",
    "print(do_klt_and_back(random_input, eig_vecs, M)[1])"
   ]
  },
  {
   "cell_type": "code",
   "execution_count": 66,
   "metadata": {},
   "outputs": [
    {
     "name": "stdout",
     "output_type": "stream",
     "text": [
      "9.73744573488e-05\n"
     ]
    }
   ],
   "source": [
    "klt, err = do_klt_and_back(train_data[0] - M.reshape(-1), eig_vecs, M)\n",
    "print(err)"
   ]
  },
  {
   "cell_type": "code",
   "execution_count": 45,
   "metadata": {},
   "outputs": [
    {
     "data": {
      "text/plain": [
       "14"
      ]
     },
     "execution_count": 45,
     "metadata": {},
     "output_type": "execute_result"
    }
   ],
   "source": [
    "np.argmin(klt)"
   ]
  },
  {
   "cell_type": "code",
   "execution_count": 68,
   "metadata": {},
   "outputs": [],
   "source": [
    "np.save(\"/home/sadjad/projects/nnfc-temp/klt/transform\", eig_vecs)\n",
    "np.save(\"/home/sadjad/projects/nnfc-temp/klt/mean\", M)"
   ]
  },
  {
   "cell_type": "code",
   "execution_count": 60,
   "metadata": {},
   "outputs": [
    {
     "data": {
      "text/plain": [
       "<matplotlib.colorbar.Colorbar at 0x7fb5b2ee87f0>"
      ]
     },
     "execution_count": 60,
     "metadata": {},
     "output_type": "execute_result"
    },
    {
     "data": {
      "image/png": "[encoded data removed]",
      "text/plain": [
       "<Figure size 432x288 with 2 Axes>"
      ]
     },
     "metadata": {},
     "output_type": "display_data"
    }
   ],
   "source": [
    "plt.imshow(klt.reshape(*block_size)[0])\n",
    "plt.colorbar()"
   ]
  },
  {
   "cell_type": "code",
   "execution_count": 14,
   "metadata": {},
   "outputs": [],
   "source": [
    "import scipy"
   ]
  },
  {
   "cell_type": "code",
   "execution_count": 15,
   "metadata": {},
   "outputs": [
    {
     "data": {
      "text/plain": [
       "<function scipy.fftpack.realtransforms.dct(x, type=2, n=None, axis=-1, norm=None, overwrite_x=False)>"
      ]
     },
     "execution_count": 15,
     "metadata": {},
     "output_type": "execute_result"
    }
   ],
   "source": [
    "scipy.fftpack.dct"
   ]
  },
  {
   "cell_type": "code",
   "execution_count": 17,
   "metadata": {},
   "outputs": [
    {
     "data": {
      "text/plain": [
       "<matplotlib.image.AxesImage at 0x7fb426f747f0>"
      ]
     },
     "execution_count": 17,
     "metadata": {},
     "output_type": "execute_result"
    },
    {
     "data": {
      "image/png": "[encoded data removed]",
      "text/plain": [
       "<Figure size 432x288 with 1 Axes>"
      ]
     },
     "metadata": {},
     "output_type": "display_data"
    }
   ],
   "source": [
    "plt.imshow(scipy.fftpack.dct(train_data[0].reshape(4, 4)))"
   ]
  },
  {
   "cell_type": "code",
   "execution_count": null,
   "metadata": {},
   "outputs": [],
   "source": []
  }
 ],
 "metadata": {
  "kernelspec": {
   "display_name": "Python 3",
   "language": "python",
   "name": "python3"
  },
  "language_info": {
   "codemirror_mode": {
    "name": "ipython",
    "version": 3
   },
   "file_extension": ".py",
   "mimetype": "text/x-python",
   "name": "python",
   "nbconvert_exporter": "python",
   "pygments_lexer": "ipython3",
   "version": "3.6.5"
  }
 },
 "nbformat": 4,
 "nbformat_minor": 2
}
