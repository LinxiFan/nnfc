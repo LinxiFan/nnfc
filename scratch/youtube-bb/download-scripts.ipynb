{
 "cells": [
  {
   "cell_type": "code",
   "execution_count": 84,
   "metadata": {},
   "outputs": [],
   "source": [
    "import csv\n",
    "import matplotlib.pyplot as plt;\n",
    "import numpy as np\n",
    "import concurrent.futures\n",
    "import random"
   ]
  },
  {
   "cell_type": "code",
   "execution_count": 53,
   "metadata": {},
   "outputs": [
    {
     "name": "stdout",
     "output_type": "stream",
     "text": [
      "['AAB6lO-XiKE', '238000', '0', 'person', '0', 'present', '0.482', '0.54', '0.37166667', '0.6166667']\n",
      "['AAB6lO-XiKE', '239000', '0', 'person', '0', 'present', '0.514', '0.588', '0.36333334', '0.6066667']\n",
      "['AAB6lO-XiKE', '240000', '0', 'person', '0', 'present', '0.534', '0.614', '0.44333333', '0.685']\n"
     ]
    }
   ],
   "source": [
    "with open(\"yt_bb_detection_train.csv\", \"r\") as f:\n",
    "    reader = csv.reader(f)\n",
    "    i = 0\n",
    "    \n",
    "    for row in reader:\n",
    "        if i == 3:\n",
    "            break\n",
    "        print(row)\n",
    "        i += 1"
   ]
  },
  {
   "cell_type": "code",
   "execution_count": 74,
   "metadata": {},
   "outputs": [],
   "source": [
    "bb_sizes = []\n",
    "\n",
    "with open(\"yt_bb_detection_validation.csv\", \"r\") as f:\n",
    "    reader = csv.reader(f)\n",
    "    for row in reader:\n",
    "        left, right, top, bottom = map(lambda x: float(x), row[-4:])\n",
    "        bb_sizes.append((right - left) * (bottom - top) * 100)"
   ]
  },
  {
   "cell_type": "code",
   "execution_count": 77,
   "metadata": {
    "scrolled": true
   },
   "outputs": [
    {
     "data": {
      "image/png": "[encoded data removed]",
      "text/plain": [
       "<matplotlib.figure.Figure at 0x7f2f73f8eb38>"
      ]
     },
     "metadata": {},
     "output_type": "display_data"
    }
   ],
   "source": [
    "plt.hist(bb_sizes, bins=25)\n",
    "plt.xticks(np.arange(0, 100.0, 100.0/25))\n",
    "plt.xlabel(\"Frame % taken up by object\")\n",
    "plt.ylabel(\"# of rows\")\n",
    "plt.rcParams[\"figure.figsize\"] = (15, 6)\n",
    "plt.show()"
   ]
  },
  {
   "cell_type": "code",
   "execution_count": 94,
   "metadata": {},
   "outputs": [],
   "source": [
    "classes = [\"airplane\", \"bike\", \"bird\", \"boat\", \"bus\",\n",
    "           \"car\", \"cat\", \"cow\", \"dog\", \"horse\", \"motorcycle\",\n",
    "           \"person\", \"plotted plant\", \"train\"]\n",
    "\n",
    "# Each class has a set of 100 video segments\n",
    "# Each segment is a list of rows with the same video-ID, class-ID, object-ID\n",
    "vids = {clss: [] for clss in classes}\n",
    "keep_absent = False\n",
    "num_vids_per_class = 100\n",
    "\n",
    "def possibly_add_segment(rows):\n",
    "    # rows is a segment (see above)\n",
    "    clss = rows[0][3]\n",
    "    \n",
    "    if clss not in classes:\n",
    "        return\n",
    "    \n",
    "    if len(vids[clss]) < num_vids_per_class or random.random() < 0.5:\n",
    "        vids[clss].append(rows)\n",
    "        return\n",
    "    \n",
    "    # remove existing segment\n",
    "    idx = random.randrange(0, len(vids[clss]))\n",
    "    vids[clss][idx], vids[clss][-1] = vids[clss][-1], vids[clss][idx]\n",
    "    vids[clss].pop()\n",
    "    vids[clss].append(rows)\n",
    "\n",
    "def process_vid_rows(rows):\n",
    "    # sort to de-interleave rows since they're initially sorted by youtube-ID, timestamp\n",
    "    # sort and group together by class-ID, object-ID, timestamp\n",
    "    rows.sort(key=lambda row: (int(row[2]), int(row[4]), int(row[1])))\n",
    "\n",
    "    curr = []\n",
    "    for row in rows:\n",
    "        if curr and row[2] == curr[0][2] and row[4] == curr[0][4]:\n",
    "            possibly_add_segment(curr)\n",
    "            del curr[:]\n",
    "            \n",
    "        curr.append(row)\n",
    "\n",
    "with open(\"yt_bb_detection_validation.csv\", \"r\") as f:\n",
    "    reader = csv.reader(f)\n",
    "    vid_rows = []\n",
    "    for row in reader:\n",
    "        if row[5] != 'present' and not keep_absent:\n",
    "            continue\n",
    "            \n",
    "        if vid_rows and row[0] != vid_rows[0][0]:\n",
    "            process_vid_rows(vid_rows)\n",
    "            del vid_rows[:]\n",
    "            \n",
    "        vid_rows.append(row)"
   ]
  },
  {
   "cell_type": "code",
   "execution_count": null,
   "metadata": {},
   "outputs": [],
   "source": []
  },
  {
   "cell_type": "code",
   "execution_count": null,
   "metadata": {},
   "outputs": [],
   "source": [
    "with concurrent.futures.ProcessPoolExecutor() as executor:\n",
    "    segment_rows = []\n",
    "    with open(\"yt_bb_detection_train.csv\", \"r\") as f:\n",
    "        reader = csv.reader(f)\n",
    "        for row in reader:\n",
    "            if segment_rows and row[3] != segment_rows[0][3]:\n",
    "                executor.submit(download_vid, list(segment_rows))\n",
    "                del segment_rows[:]\n",
    "\n",
    "            if row[3] in classes and (row[5] == 'present' or keep_absent):\n",
    "                segment_rows.append(row)"
   ]
  }
 ],
 "metadata": {
  "kernelspec": {
   "display_name": "Python 3",
   "language": "python",
   "name": "python3"
  },
  "language_info": {
   "codemirror_mode": {
    "name": "ipython",
    "version": 3
   },
   "file_extension": ".py",
   "mimetype": "text/x-python",
   "name": "python",
   "nbconvert_exporter": "python",
   "pygments_lexer": "ipython3",
   "version": "3.6.6"
  }
 },
 "nbformat": 4,
 "nbformat_minor": 2
}
